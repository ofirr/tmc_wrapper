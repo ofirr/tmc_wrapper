{
 "cells": [
  {
   "cell_type": "markdown",
   "metadata": {},
   "source": [
    "Reconstructing a lineage tree from mutation table"
   ]
  },
  {
   "cell_type": "code",
   "execution_count": 1,
   "metadata": {},
   "outputs": [],
   "source": [
    "import os\n",
    "import sys\n",
    "sys.path.append('path_to_tmc_wrapper')\n",
    "\n",
    "from tmc_wrapper.utils import to_dict_no_nans, memory_expensive_random_choose, run_command\n",
    "from tmc_wrapper.TMC_formatting import map_cell_ids_for_sagi, format_triplet, convert_names_in_sagis_newick\n",
    "from tmc_wrapper.triplet_scoring import choose_best_pair, NoIntersectionLociException\n",
    "\n",
    "import pandas as pd"
   ]
  },
  {
   "cell_type": "code",
   "execution_count": 2,
   "metadata": {},
   "outputs": [],
   "source": [
    "project_dir = 'example-dream-small'\n",
    "aquisition_coverage_case = 'n-000001'"
   ]
  },
  {
   "cell_type": "code",
   "execution_count": 3,
   "metadata": {},
   "outputs": [],
   "source": [
    "df = pd.read_csv(os.path.join(project_dir,aquisition_coverage_case,'mutation_table.csv'), index_col='names')"
   ]
  },
  {
   "cell_type": "code",
   "execution_count": 4,
   "metadata": {},
   "outputs": [],
   "source": [
    "d = to_dict_no_nans(df)"
   ]
  },
  {
   "cell_type": "code",
   "execution_count": 5,
   "metadata": {},
   "outputs": [],
   "source": [
    "triplets_file = '/tmp/triplets_test.txt'\n",
    "cell_id_map_for_sagi = map_cell_ids_for_sagi(d)\n",
    "with open(triplets_file, 'w') as f:\n",
    "    for triplet in memory_expensive_random_choose(d.keys(), k=3, n=5000):\n",
    "        try:\n",
    "            pair, score = choose_best_pair(triplet, d)\n",
    "        except NoIntersectionLociException:\n",
    "            continue\n",
    "        f.write(format_triplet(triplet, pair, score, cell_id_map_for_sagi, print_scores=True))"
   ]
  },
  {
   "cell_type": "code",
   "execution_count": 6,
   "metadata": {},
   "outputs": [],
   "source": [
    "import os\n",
    "\n",
    "class EmptyTripletsFile(Exception):\n",
    "    pass\n",
    "\n",
    "\n",
    "def run_TMC(triplets_file, output_newick):\n",
    "    # tmc(\n",
    "    #     \"-fid\", triplets_file,\n",
    "    #     \"-frtN\", output_newick)\n",
    "    if os.stat(triplets_file).st_size == 0:\n",
    "        raise EmptyTripletsFile('Empty file: '.format(triplets_file))\n",
    "    sagi_cli = 'full_path_to_tmc_wrapper/TMC/treeFromTriplets -fid {} -frtN {} -w 1 -index 2'.format(\n",
    "        triplets_file, output_newick)\n",
    "    return os.system(sagi_cli)"
   ]
  },
  {
   "cell_type": "code",
   "execution_count": 7,
   "metadata": {},
   "outputs": [
    {
     "data": {
      "text/plain": [
       "256"
      ]
     },
     "execution_count": 7,
     "metadata": {},
     "output_type": "execute_result"
    }
   ],
   "source": [
    "index_labeled_output_newick = '/tmp/index_labeled_triplets_test.newick'\n",
    "run_TMC(triplets_file, index_labeled_output_newick)"
   ]
  },
  {
   "cell_type": "code",
   "execution_count": 8,
   "metadata": {},
   "outputs": [],
   "source": [
    "newick_tree_path = '/tmp/triplets_test.newick'"
   ]
  },
  {
   "cell_type": "code",
   "execution_count": 9,
   "metadata": {},
   "outputs": [],
   "source": [
    "convert_names_in_sagis_newick(index_labeled_output_newick, newick_tree_path, cell_id_map_for_sagi)"
   ]
  },
  {
   "cell_type": "markdown",
   "metadata": {},
   "source": [
    "\n",
    "Evaluating the tree reconstruction agains a know reference using TreeCMP"
   ]
  },
  {
   "cell_type": "code",
   "execution_count": 10,
   "metadata": {},
   "outputs": [],
   "source": [
    "import dendropy\n",
    "tns = dendropy.TaxonNamespace()\n",
    "ref_tree = dendropy.Tree.get_from_path(os.path.join(project_dir,'simulation.distance.newick'),'newick', taxon_namespace=tns, preserve_underscores=True)\n",
    "tmc_rec_tree = dendropy.Tree.get_from_path('/tmp/triplets_test.newick',\"newick\",taxon_namespace=tns, preserve_underscores=True)"
   ]
  },
  {
   "cell_type": "code",
   "execution_count": 11,
   "metadata": {},
   "outputs": [],
   "source": [
    "sim_tree = ref_tree\n",
    "cat_nodes = dict()\n",
    "for n in sim_tree.leaf_nodes():\n",
    "    cat_nodes.setdefault(n.taxon.label.split('_')[1], list()).append(n.taxon)\n",
    "sim_tree.prune_taxa(cat_nodes['Dead'])  # trim dead nodes from the reference\n",
    "sim_tree.prune_taxa(cat_nodes['Null'])  # trim null nodes from the reference\n",
    "sim_tree.write_to_path(os.path.join(project_dir,'simulation.distance.trimmed.newick'), 'newick')"
   ]
  },
  {
   "cell_type": "code",
   "execution_count": 12,
   "metadata": {},
   "outputs": [],
   "source": [
    "def compare(path_simulation_newick, path_reconstructed_newick, path_score_output):\n",
    "\n",
    "    path_treecmp = 'path_to_treecmp/bin/TreeCmp/bin/treeCmp.jar'\n",
    "\n",
    "    #  Metrics for rooted trees\n",
    "    metrics = {\n",
    "        \"rooted\": \"mc rc ns tt mp mt co\",\n",
    "        \"unrooted\": \"ms rf pd qt um\"\n",
    "    }\n",
    "\n",
    "    cmd = [\n",
    "        'java', '-jar', path_treecmp,\n",
    "        '-P', '-N', '-I'\n",
    "        '-r', path_simulation_newick,\n",
    "        '-i', path_reconstructed_newick,\n",
    "        '-o', path_score_output,\n",
    "        '-d'\n",
    "    ]\n",
    "\n",
    "    cmd.extend(metrics['rooted'].split(' '))\n",
    "\n",
    "    run_command(cmd)\n",
    "    \n",
    "    \n",
    "def get_scores(path_simulation_newick, path_reconstructed_newick, path_score_output):\n",
    "\n",
    "    compare(path_simulation_newick, path_reconstructed_newick, path_score_output)\n",
    "\n",
    "    df_metrics = pd.read_csv(\n",
    "        path_score_output,\n",
    "        sep='\\t',\n",
    "        nrows=1\n",
    "    )\n",
    "\n",
    "    return df_metrics"
   ]
  },
  {
   "cell_type": "code",
   "execution_count": 13,
   "metadata": {},
   "outputs": [],
   "source": [
    "scores = get_scores(\n",
    "    os.path.join(project_dir,'simulation.distance.trimmed.newick'),\n",
    "    '/tmp/triplets_test.newick',\n",
    "    '/tmp/scores.txt'\n",
    ")"
   ]
  },
  {
   "cell_type": "code",
   "execution_count": 14,
   "metadata": {},
   "outputs": [
    {
     "data": {
      "text/html": [
       "<div>\n",
       "<style scoped>\n",
       "    .dataframe tbody tr th:only-of-type {\n",
       "        vertical-align: middle;\n",
       "    }\n",
       "\n",
       "    .dataframe tbody tr th {\n",
       "        vertical-align: top;\n",
       "    }\n",
       "\n",
       "    .dataframe thead th {\n",
       "        text-align: right;\n",
       "    }\n",
       "</style>\n",
       "<table border=\"1\" class=\"dataframe\">\n",
       "  <thead>\n",
       "    <tr style=\"text-align: right;\">\n",
       "      <th></th>\n",
       "      <th>0</th>\n",
       "    </tr>\n",
       "  </thead>\n",
       "  <tbody>\n",
       "    <tr>\n",
       "      <th>No</th>\n",
       "      <td>1.0000</td>\n",
       "    </tr>\n",
       "    <tr>\n",
       "      <th>RefTree</th>\n",
       "      <td>1.0000</td>\n",
       "    </tr>\n",
       "    <tr>\n",
       "      <th>Tree</th>\n",
       "      <td>1.0000</td>\n",
       "    </tr>\n",
       "    <tr>\n",
       "      <th>RefTree_taxa</th>\n",
       "      <td>55.0000</td>\n",
       "    </tr>\n",
       "    <tr>\n",
       "      <th>Tree_taxa</th>\n",
       "      <td>55.0000</td>\n",
       "    </tr>\n",
       "    <tr>\n",
       "      <th>Common_taxa</th>\n",
       "      <td>55.0000</td>\n",
       "    </tr>\n",
       "    <tr>\n",
       "      <th>MatchingCluster</th>\n",
       "      <td>238.0000</td>\n",
       "    </tr>\n",
       "    <tr>\n",
       "      <th>MatchingCluster_toYuleAvg</th>\n",
       "      <td>0.5959</td>\n",
       "    </tr>\n",
       "    <tr>\n",
       "      <th>MatchingCluster_toUnifAvg</th>\n",
       "      <td>0.4272</td>\n",
       "    </tr>\n",
       "    <tr>\n",
       "      <th>R-F_Cluster</th>\n",
       "      <td>35.5000</td>\n",
       "    </tr>\n",
       "    <tr>\n",
       "      <th>R-F_Cluster_toYuleAvg</th>\n",
       "      <td>0.6729</td>\n",
       "    </tr>\n",
       "    <tr>\n",
       "      <th>R-F_Cluster_toUnifAvg</th>\n",
       "      <td>0.6717</td>\n",
       "    </tr>\n",
       "    <tr>\n",
       "      <th>NodalSplitted</th>\n",
       "      <td>165.6744</td>\n",
       "    </tr>\n",
       "    <tr>\n",
       "      <th>NodalSplitted_toYuleAvg</th>\n",
       "      <td>0.7609</td>\n",
       "    </tr>\n",
       "    <tr>\n",
       "      <th>NodalSplitted_toUnifAvg</th>\n",
       "      <td>0.4464</td>\n",
       "    </tr>\n",
       "    <tr>\n",
       "      <th>Triples</th>\n",
       "      <td>5325.0000</td>\n",
       "    </tr>\n",
       "    <tr>\n",
       "      <th>Triples_toYuleAvg</th>\n",
       "      <td>0.3047</td>\n",
       "    </tr>\n",
       "    <tr>\n",
       "      <th>Triples_toUnifAvg</th>\n",
       "      <td>0.3050</td>\n",
       "    </tr>\n",
       "    <tr>\n",
       "      <th>MatchingPair</th>\n",
       "      <td>463.0000</td>\n",
       "    </tr>\n",
       "    <tr>\n",
       "      <th>MatchingPair_toYuleAvg</th>\n",
       "      <td>0.3962</td>\n",
       "    </tr>\n",
       "    <tr>\n",
       "      <th>MatchingPair_toUnifAvg</th>\n",
       "      <td>0.4049</td>\n",
       "    </tr>\n",
       "    <tr>\n",
       "      <th>MAST</th>\n",
       "      <td>39.0000</td>\n",
       "    </tr>\n",
       "    <tr>\n",
       "      <th>MAST_toYuleAvg</th>\n",
       "      <td>0.8916</td>\n",
       "    </tr>\n",
       "    <tr>\n",
       "      <th>MAST_toUnifAvg</th>\n",
       "      <td>0.8820</td>\n",
       "    </tr>\n",
       "    <tr>\n",
       "      <th>CopheneticL2Metric</th>\n",
       "      <td>84.5754</td>\n",
       "    </tr>\n",
       "    <tr>\n",
       "      <th>CopheneticL2Metric_toYuleAvg</th>\n",
       "      <td>0.5142</td>\n",
       "    </tr>\n",
       "    <tr>\n",
       "      <th>CopheneticL2Metric_toUnifAvg</th>\n",
       "      <td>0.3188</td>\n",
       "    </tr>\n",
       "  </tbody>\n",
       "</table>\n",
       "</div>"
      ],
      "text/plain": [
       "                                      0\n",
       "No                               1.0000\n",
       "RefTree                          1.0000\n",
       "Tree                             1.0000\n",
       "RefTree_taxa                    55.0000\n",
       "Tree_taxa                       55.0000\n",
       "Common_taxa                     55.0000\n",
       "MatchingCluster                238.0000\n",
       "MatchingCluster_toYuleAvg        0.5959\n",
       "MatchingCluster_toUnifAvg        0.4272\n",
       "R-F_Cluster                     35.5000\n",
       "R-F_Cluster_toYuleAvg            0.6729\n",
       "R-F_Cluster_toUnifAvg            0.6717\n",
       "NodalSplitted                  165.6744\n",
       "NodalSplitted_toYuleAvg          0.7609\n",
       "NodalSplitted_toUnifAvg          0.4464\n",
       "Triples                       5325.0000\n",
       "Triples_toYuleAvg                0.3047\n",
       "Triples_toUnifAvg                0.3050\n",
       "MatchingPair                   463.0000\n",
       "MatchingPair_toYuleAvg           0.3962\n",
       "MatchingPair_toUnifAvg           0.4049\n",
       "MAST                            39.0000\n",
       "MAST_toYuleAvg                   0.8916\n",
       "MAST_toUnifAvg                   0.8820\n",
       "CopheneticL2Metric              84.5754\n",
       "CopheneticL2Metric_toYuleAvg     0.5142\n",
       "CopheneticL2Metric_toUnifAvg     0.3188"
      ]
     },
     "execution_count": 14,
     "metadata": {},
     "output_type": "execute_result"
    }
   ],
   "source": [
    "scores.T"
   ]
  },
  {
   "cell_type": "markdown",
   "metadata": {},
   "source": [
    "Directly calculating the number of correct triplets comparing to a reference tree"
   ]
  },
  {
   "cell_type": "code",
   "execution_count": 15,
   "metadata": {},
   "outputs": [],
   "source": [
    "from tmc_wrapper.triplets_distance import triplets_score"
   ]
  },
  {
   "cell_type": "code",
   "execution_count": 16,
   "metadata": {},
   "outputs": [],
   "source": [
    "counts = triplets_score(tmc_rec_tree, sim_tree, n=1000)"
   ]
  },
  {
   "cell_type": "code",
   "execution_count": 17,
   "metadata": {},
   "outputs": [
    {
     "name": "stdout",
     "output_type": "stream",
     "text": [
      "Percentage of correct triplets: 68.2%\n"
     ]
    }
   ],
   "source": [
    "print(\"Percentage of correct triplets: {}%\".format(100*counts[True]/(counts[True]+counts[False])))"
   ]
  },
  {
   "cell_type": "code",
   "execution_count": null,
   "metadata": {},
   "outputs": [],
   "source": []
  }
 ],
 "metadata": {
  "kernelspec": {
   "display_name": "Python 3",
   "language": "python",
   "name": "python3"
  },
  "language_info": {
   "codemirror_mode": {
    "name": "ipython",
    "version": 3
   },
   "file_extension": ".py",
   "mimetype": "text/x-python",
   "name": "python",
   "nbconvert_exporter": "python",
   "pygments_lexer": "ipython3",
   "version": "3.6.7"
  }
 },
 "nbformat": 4,
 "nbformat_minor": 2
}
