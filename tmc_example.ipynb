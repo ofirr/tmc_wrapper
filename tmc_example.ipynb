{
 "cells": [
  {
   "cell_type": "markdown",
   "metadata": {},
   "source": [
    "Reconstructing a lineage tree from mutation table"
   ]
  },
  {
   "cell_type": "code",
   "execution_count": 1,
   "metadata": {},
   "outputs": [],
   "source": [
    "import os\n",
    "import sys\n",
    "sys.path.append('path_to_tmc_wrapper')\n",
    "\n",
    "from tmc_wrapper.utils import to_dict_no_nans, memory_expensive_random_choose\n",
    "from tmc_wrapper.TMC_formatting import map_cell_ids_for_sagi, format_triplet, convert_names_in_sagis_newick\n",
    "from tmc_wrapper.triplet_scoring import choose_best_pair, NoIntersectionLociException\n",
    "\n",
    "import pandas as pd"
   ]
  },
  {
   "cell_type": "code",
   "execution_count": 2,
   "metadata": {},
   "outputs": [],
   "source": [
    "name = 'SubC3_train_000X'\n",
    "project_dir = 'path_to_Subchallenge3/{}'.format(name)"
   ]
  },
  {
   "cell_type": "code",
   "execution_count": 3,
   "metadata": {},
   "outputs": [],
   "source": [
    "df = pd.read_csv(os.path.join(project_dir,'{}_mutation_table.csv'.format(name)), index_col=0)"
   ]
  },
  {
   "cell_type": "code",
   "execution_count": 4,
   "metadata": {},
   "outputs": [],
   "source": [
    "d = to_dict_no_nans(df.T)"
   ]
  },
  {
   "cell_type": "code",
   "execution_count": 5,
   "metadata": {},
   "outputs": [],
   "source": [
    "triplets_file = '/tmp/triplets_test.txt'\n",
    "cell_id_map_for_sagi = map_cell_ids_for_sagi(d)\n",
    "with open(triplets_file, 'w') as f:\n",
    "    for triplet in memory_expensive_random_choose(d.keys(), k=3, n=5000):\n",
    "        try:\n",
    "            pair, score = choose_best_pair(triplet, d)\n",
    "        except NoIntersectionLociException:\n",
    "            continue\n",
    "        f.write(format_triplet(triplet, pair, score, cell_id_map_for_sagi, print_scores=True))"
   ]
  },
  {
   "cell_type": "code",
   "execution_count": 6,
   "metadata": {},
   "outputs": [],
   "source": [
    "import os\n",
    "\n",
    "class EmptyTripletsFile(Exception):\n",
    "    pass\n",
    "\n",
    "\n",
    "def run_TMC(triplets_file, output_newick):\n",
    "    # tmc(\n",
    "    #     \"-fid\", triplets_file,\n",
    "    #     \"-frtN\", output_newick)\n",
    "    if os.stat(triplets_file).st_size == 0:\n",
    "        raise EmptyTripletsFile('Empty file: '.format(triplets_file))\n",
    "    tmc_cli = 'full_path_to_tmc_wrapper/TMC/treeFromTriplets -fid {} -frtN {} -w 1 -index 2'.format(\n",
    "        triplets_file, output_newick)\n",
    "    return os.system(tmc_cli)"
   ]
  },
  {
   "cell_type": "code",
   "execution_count": 7,
   "metadata": {},
   "outputs": [
    {
     "data": {
      "text/plain": [
       "256"
      ]
     },
     "execution_count": 7,
     "metadata": {},
     "output_type": "execute_result"
    }
   ],
   "source": [
    "index_labeled_output_newick = '/tmp/index_labeled_triplets_test.newick'\n",
    "run_TMC(triplets_file, index_labeled_output_newick)"
   ]
  },
  {
   "cell_type": "code",
   "execution_count": 8,
   "metadata": {},
   "outputs": [],
   "source": [
    "newick_tree_path = '/tmp/triplets_test.newick'"
   ]
  },
  {
   "cell_type": "code",
   "execution_count": 9,
   "metadata": {},
   "outputs": [],
   "source": [
    "convert_names_in_sagis_newick(index_labeled_output_newick, newick_tree_path, cell_id_map_for_sagi)"
   ]
  },
  {
   "cell_type": "code",
   "execution_count": 10,
   "metadata": {},
   "outputs": [],
   "source": [
    "import dendropy\n",
    "rec_tree = dendropy.Tree.get_from_path(\n",
    "                    newick_tree_path,\n",
    "                \"newick\")"
   ]
  },
  {
   "cell_type": "code",
   "execution_count": 11,
   "metadata": {
    "scrolled": false
   },
   "outputs": [
    {
     "name": "stdout",
     "output_type": "stream",
     "text": [
      "                                        /----- Run1_Smooth_Muscle_25070\n",
      "                                        |                              \n",
      "                                        |----- Run1_Smooth_Muscle_25035\n",
      "                                   /----+                              \n",
      "                                   |    |----- Run1_Smooth_Muscle_25021\n",
      "     /-----------------------------+    |                              \n",
      "     |                             |    \\----- Run1_Skeletal_2801      \n",
      "     |                             |                                   \n",
      "     |                             \\---------- Run1_Skeletal_2800      \n",
      "     |                                                                 \n",
      "     |    /----------------------------------- Run1_Smooth_Muscle_25030\n",
      "     |    |                                                            \n",
      "     |    |                             /----- Run1_Smooth_Muscle_25081\n",
      "/----+    |         /-------------------+                              \n",
      "|    |    |         |                   \\----- Run1_Smooth_Muscle_25062\n",
      "|    |    |         |                                                  \n",
      "|    |    |         |         /--------------- Run1_Skin_14707         \n",
      "|    |    |         |         |                                        \n",
      "|    |    |         |         |         /----- Run1_Smooth_Muscle_25027\n",
      "|    |    |         |         |         |                              \n",
      "|    |    |         |         |         |----- Run1_Skin_14727         \n",
      "|    \\----+         |    /----+    /----+                              \n",
      "|         |    /----+    |    |    |    |----- Run1_Pigment_15822      \n",
      "|         |    |    |    |    |    |    |                              \n",
      "|         |    |    |    |    |    |    \\----- Run1_Pigment_15812      \n",
      "|         |    |    |    |    |    |                                   \n",
      "|         |    |    |    |    |    |---------- Run1_Pigment_15802      \n",
      "|         |    |    |    |    \\----+                                   \n",
      "|         |    |    |    |         |    /----- Run1_Smooth_Muscle_25084\n",
      "|         |    |    |    |         |    |                              \n",
      "|         |    |    |    |         |    |----- Run1_Smooth_Muscle_25060\n",
      "|         |    |    \\----+         |    |                              \n",
      "|         |    |         |         |    |----- Run1_Neuron_21842       \n",
      "+         \\----+         |         \\----+                              \n",
      "|              |         |              |----- Run1_Neuron_21839       \n",
      "|              |         |              |                              \n",
      "|              |         |              |----- Run1_Neuron_21828       \n",
      "|              |         |              |                              \n",
      "|              |         |              \\----- Run1_Neuron_21802       \n",
      "|              |         |                                             \n",
      "|              |         |              /----- Run1_Neuron_21816       \n",
      "|              |         \\--------------+                              \n",
      "|              |                        \\----- Run1_Neuron_21812       \n",
      "|              |                                                       \n",
      "|              \\------------------------------ Run1_Smooth_Muscle_25068\n",
      "|                                                                      \n",
      "|                                  /---------- Run1_Pigment_15823      \n",
      "|                                  |                                   \n",
      "|              /-------------------+    /----- Run1_Skin_14693         \n",
      "|              |                   |    |                              \n",
      "|              |                   |    |----- Run1_Pigment_15819      \n",
      "|              |                   \\----+                              \n",
      "|              |                        |----- Run1_Neuron_21836       \n",
      "|              |                        |                              \n",
      "\\--------------+                        \\----- Run1_Neuron_21789       \n",
      "               |                                                       \n",
      "               |    /------------------------- Run1_Neuron_21821       \n",
      "               |    |                                                  \n",
      "               |    |    /-------------------- Run1_Cardiac_6662       \n",
      "               |    |    |                                             \n",
      "               \\----+    |              /----- Run1_Smooth_Muscle_25086\n",
      "                    |    |              |                              \n",
      "                    |    |              |----- Run1_Smooth_Muscle_25074\n",
      "                    |    |    /---------+                              \n",
      "                    \\----+    |         |----- Run1_Smooth_Muscle_25037\n",
      "                         |    |         |                              \n",
      "                         |    |         \\----- Run1_Neuron_21823       \n",
      "                         |    |                                        \n",
      "                         |    |    /---------- Run1_Pigment_15786      \n",
      "                         |    |    |                                   \n",
      "                         |    |    |---------- Run1_Pigment_15774      \n",
      "                         \\----+    |                                   \n",
      "                              |    |---------- Run1_Cardiac_6652       \n",
      "                              |    |                                   \n",
      "                              |    |    /----- Run1_Tubule_kidney_4922 \n",
      "                              |    |    |                              \n",
      "                              |    |    |----- Run1_Tubule_kidney_4920 \n",
      "                              |    |    |                              \n",
      "                              |    |    |----- Run1_Tubule_kidney_4916 \n",
      "                              \\----+    |                              \n",
      "                                   |    |----- Run1_Tubule_kidney_4910 \n",
      "                                   |    |                              \n",
      "                                   |    |----- Run1_Smooth_Muscle_25075\n",
      "                                   |    |                              \n",
      "                                   |    |----- Run1_Skin_14725         \n",
      "                                   |    |                              \n",
      "                                   |    |----- Run1_Skin_14722         \n",
      "                                   |    |                              \n",
      "                                   |    |----- Run1_Skin_14716         \n",
      "                                   |    |                              \n",
      "                                   |    |----- Run1_Skin_14672         \n",
      "                                   \\----+                              \n",
      "                                        |----- Run1_Pigment_15817      \n",
      "                                        |                              \n",
      "                                        |----- Run1_Pigment_15803      \n",
      "                                        |                              \n",
      "                                        |----- Run1_Pigment_15797      \n",
      "                                        |                              \n",
      "                                        |----- Run1_Pigment_15790      \n",
      "                                        |                              \n",
      "                                        |----- Run1_Pigment_15777      \n",
      "                                        |                              \n",
      "                                        |----- Run1_Neuron_21834       \n",
      "                                        |                              \n",
      "                                        |----- Run1_Neuron_21833       \n",
      "                                        |                              \n",
      "                                        |----- Run1_Cardiac_6655       \n",
      "                                        |                              \n",
      "                                        \\----- Run1_Cardiac_6643       \n",
      "                                                                       \n",
      "                                                                       \n"
     ]
    }
   ],
   "source": [
    "print(rec_tree.as_ascii_plot())"
   ]
  },
  {
   "cell_type": "code",
   "execution_count": null,
   "metadata": {},
   "outputs": [],
   "source": []
  }
 ],
 "metadata": {
  "kernelspec": {
   "display_name": "Python 3",
   "language": "python",
   "name": "python3"
  },
  "language_info": {
   "codemirror_mode": {
    "name": "ipython",
    "version": 3
   },
   "file_extension": ".py",
   "mimetype": "text/x-python",
   "name": "python",
   "nbconvert_exporter": "python",
   "pygments_lexer": "ipython3",
   "version": "3.6.7"
  }
 },
 "nbformat": 4,
 "nbformat_minor": 2
}
